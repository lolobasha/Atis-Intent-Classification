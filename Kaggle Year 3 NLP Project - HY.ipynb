{
 "cells": [
  {
   "cell_type": "markdown",
   "id": "cf2505c7",
   "metadata": {},
   "source": [
    "## ATIS INTENT CLASSIFICATION PROJECT - YEAR 3 NLP COURSE PROJECT\n",
    "#### By: Hala Sedki & Youssef Hany"
   ]
  },
  {
   "cell_type": "markdown",
   "id": "2a2ac8ed",
   "metadata": {},
   "source": [
    " Model/Tasks Breakdown:\n",
    " - Hala (Bert Model & XLNet)\n",
    " - Youssef (SVM & LSTM)"
   ]
  },
  {
   "cell_type": "markdown",
   "id": "37cdcd19",
   "metadata": {},
   "source": [
    "--------------------------"
   ]
  },
  {
   "cell_type": "markdown",
   "id": "1fafd9cb",
   "metadata": {},
   "source": [
    "## Exploratory Data Analysis"
   ]
  },
  {
   "cell_type": "markdown",
   "id": "7d79b2d3",
   "metadata": {},
   "source": [
    "### Section 1: Importing the Data"
   ]
  },
  {
   "cell_type": "code",
   "execution_count": 1,
   "id": "6e4ffc14",
   "metadata": {},
   "outputs": [],
   "source": [
    "import pandas as pd\n",
    "from sklearn.model_selection import train_test_split\n",
    "from sklearn.metrics import classification_report\n",
    "from transformers import BertTokenizer, BertForSequenceClassification, AdamW\n",
    "import torch\n",
    "from torch.utils.data import TensorDataset, DataLoader, RandomSampler, SequentialSampler\n",
    "import pandas as pd\n",
    "import matplotlib.pyplot as plt\n",
    "import seaborn as sns\n",
    "from transformers import XLNetTokenizer, XLNetForSequenceClassification, AdamW\n",
    "import pandas as pd\n",
    "from sklearn.model_selection import train_test_split\n",
    "from sklearn.metrics import classification_report\n",
    "from transformers import XLNetTokenizer, XLNetForSequenceClassification, AdamW\n",
    "import torch\n",
    "from torch.utils.data import TensorDataset, DataLoader, RandomSampler, SequentialSampler"
   ]
  },
  {
   "cell_type": "code",
   "execution_count": 2,
   "id": "6facb82f",
   "metadata": {},
   "outputs": [],
   "source": [
    "#pip install sentencepiece"
   ]
  },
  {
   "cell_type": "code",
   "execution_count": 3,
   "id": "b24be97f",
   "metadata": {},
   "outputs": [],
   "source": [
    "# Load the train and test datasets\n",
    "train_df = pd.read_csv(\"train_atis.csv\")\n",
    "test_df = pd.read_csv(\"test_atis.csv\")"
   ]
  },
  {
   "cell_type": "markdown",
   "id": "e082530b",
   "metadata": {},
   "source": [
    "In this section, we import the pandas library and use it to read the train and test datasets from CSV files. The train dataset is stored in the train_df DataFrame, and the test dataset is stored in the test_df DataFrame."
   ]
  },
  {
   "cell_type": "code",
   "execution_count": 4,
   "id": "bfd0d097",
   "metadata": {},
   "outputs": [
    {
     "data": {
      "text/html": [
       "<div>\n",
       "<style scoped>\n",
       "    .dataframe tbody tr th:only-of-type {\n",
       "        vertical-align: middle;\n",
       "    }\n",
       "\n",
       "    .dataframe tbody tr th {\n",
       "        vertical-align: top;\n",
       "    }\n",
       "\n",
       "    .dataframe thead th {\n",
       "        text-align: right;\n",
       "    }\n",
       "</style>\n",
       "<table border=\"1\" class=\"dataframe\">\n",
       "  <thead>\n",
       "    <tr style=\"text-align: right;\">\n",
       "      <th></th>\n",
       "      <th>intent</th>\n",
       "      <th>Rid</th>\n",
       "      <th>Request</th>\n",
       "    </tr>\n",
       "  </thead>\n",
       "  <tbody>\n",
       "    <tr>\n",
       "      <th>0</th>\n",
       "      <td>atis_flight</td>\n",
       "      <td>1</td>\n",
       "      <td>i would like to fly the cheapest rate availabl...</td>\n",
       "    </tr>\n",
       "    <tr>\n",
       "      <th>1</th>\n",
       "      <td>atis_airline</td>\n",
       "      <td>2</td>\n",
       "      <td>show me airlines with flights from pittsburgh ...</td>\n",
       "    </tr>\n",
       "    <tr>\n",
       "      <th>2</th>\n",
       "      <td>atis_flight</td>\n",
       "      <td>3</td>\n",
       "      <td>show me the continental flights with meals whi...</td>\n",
       "    </tr>\n",
       "    <tr>\n",
       "      <th>3</th>\n",
       "      <td>atis_flight</td>\n",
       "      <td>4</td>\n",
       "      <td>show me flights from denver to dc on wednesday</td>\n",
       "    </tr>\n",
       "    <tr>\n",
       "      <th>4</th>\n",
       "      <td>atis_flight</td>\n",
       "      <td>5</td>\n",
       "      <td>do you have a flight from atlanta to charlotte...</td>\n",
       "    </tr>\n",
       "  </tbody>\n",
       "</table>\n",
       "</div>"
      ],
      "text/plain": [
       "         intent  Rid                                            Request\n",
       "0   atis_flight    1  i would like to fly the cheapest rate availabl...\n",
       "1  atis_airline    2  show me airlines with flights from pittsburgh ...\n",
       "2   atis_flight    3  show me the continental flights with meals whi...\n",
       "3   atis_flight    4     show me flights from denver to dc on wednesday\n",
       "4   atis_flight    5  do you have a flight from atlanta to charlotte..."
      ]
     },
     "execution_count": 4,
     "metadata": {},
     "output_type": "execute_result"
    }
   ],
   "source": [
    "train_df.head()"
   ]
  },
  {
   "cell_type": "code",
   "execution_count": 5,
   "id": "3907180f",
   "metadata": {},
   "outputs": [
    {
     "name": "stdout",
     "output_type": "stream",
     "text": [
      "         intent  Rid                                            Request\n",
      "0   atis_flight    1  i would like to fly the cheapest rate availabl...\n",
      "1  atis_airline    2  show me airlines with flights from pittsburgh ...\n",
      "2   atis_flight    3  show me the continental flights with meals whi...\n",
      "3   atis_flight    4     show me flights from denver to dc on wednesday\n",
      "4   atis_flight    5  do you have a flight from atlanta to charlotte...\n"
     ]
    }
   ],
   "source": [
    "# Display the first few rows of the train dataset\n",
    "print(train_df.head())"
   ]
  },
  {
   "cell_type": "code",
   "execution_count": 6,
   "id": "ca564590",
   "metadata": {},
   "outputs": [
    {
     "name": "stdout",
     "output_type": "stream",
     "text": [
      "               Rid\n",
      "count  4000.000000\n",
      "mean   2000.500000\n",
      "std    1154.844867\n",
      "min       1.000000\n",
      "25%    1000.750000\n",
      "50%    2000.500000\n",
      "75%    3000.250000\n",
      "max    4000.000000\n"
     ]
    }
   ],
   "source": [
    "# Display summary statistics of the train dataset\n",
    "print(train_df.describe())"
   ]
  },
  {
   "cell_type": "code",
   "execution_count": 7,
   "id": "f0285ae3",
   "metadata": {},
   "outputs": [
    {
     "name": "stdout",
     "output_type": "stream",
     "text": [
      "<class 'pandas.core.frame.DataFrame'>\n",
      "RangeIndex: 4000 entries, 0 to 3999\n",
      "Data columns (total 3 columns):\n",
      " #   Column   Non-Null Count  Dtype \n",
      "---  ------   --------------  ----- \n",
      " 0   intent   4000 non-null   object\n",
      " 1   Rid      4000 non-null   int64 \n",
      " 2   Request  4000 non-null   object\n",
      "dtypes: int64(1), object(2)\n",
      "memory usage: 93.9+ KB\n",
      "None\n"
     ]
    }
   ],
   "source": [
    "# Check data information of the train dataset\n",
    "print(train_df.info())"
   ]
  },
  {
   "cell_type": "code",
   "execution_count": 8,
   "id": "49e4d46b",
   "metadata": {},
   "outputs": [
    {
     "name": "stdout",
     "output_type": "stream",
     "text": [
      "intent     0\n",
      "Rid        0\n",
      "Request    0\n",
      "dtype: int64\n"
     ]
    }
   ],
   "source": [
    "# Count the missing values in the train dataset\n",
    "print(train_df.isnull().sum())"
   ]
  },
  {
   "cell_type": "code",
   "execution_count": 9,
   "id": "18f48d93",
   "metadata": {},
   "outputs": [
    {
     "data": {
      "image/png": "[encoded data removed]",
      "text/plain": [
       "<Figure size 1000x600 with 1 Axes>"
      ]
     },
     "metadata": {},
     "output_type": "display_data"
    }
   ],
   "source": [
    "# Histogram of intent distribution in train dataset\n",
    "plt.figure(figsize=(10, 6))\n",
    "sns.countplot(data=train_df, x='intent')\n",
    "plt.title('Intent Distribution')\n",
    "plt.xlabel('Intent')\n",
    "plt.ylabel('Count')\n",
    "plt.xticks(rotation=45)\n",
    "plt.show()"
   ]
  },
  {
   "cell_type": "code",
   "execution_count": 10,
   "id": "7cca80c5",
   "metadata": {},
   "outputs": [
    {
     "data": {
      "image/png": "[encoded data removed]",
      "text/plain": [
       "<Figure size 1000x600 with 1 Axes>"
      ]
     },
     "metadata": {},
     "output_type": "display_data"
    }
   ],
   "source": [
    "# Box plot of intent vs. request length in train dataset\n",
    "plt.figure(figsize=(10, 6))\n",
    "sns.boxplot(data=train_df, x='intent', y=train_df['Request'].str.len())\n",
    "plt.title('Intent vs. Request Length')\n",
    "plt.xlabel('Intent')\n",
    "plt.ylabel('Request Length')\n",
    "plt.xticks(rotation=45)\n",
    "plt.show()"
   ]
  },
  {
   "cell_type": "code",
   "execution_count": 11,
   "id": "cc5fbe0b",
   "metadata": {},
   "outputs": [
    {
     "data": {
      "image/png": "[encoded data removed]",
      "text/plain": [
       "<Figure size 1000x600 with 1 Axes>"
      ]
     },
     "metadata": {},
     "output_type": "display_data"
    }
   ],
   "source": [
    "# Scatter plot of request length vs. intent in train dataset\n",
    "plt.figure(figsize=(10, 6))\n",
    "plt.scatter(train_df['Request'].str.len(), train_df['intent'])\n",
    "plt.title('Request Length vs. Intent')\n",
    "plt.xlabel('Request Length')\n",
    "plt.ylabel('Intent')\n",
    "plt.show()"
   ]
  },
  {
   "cell_type": "code",
   "execution_count": 12,
   "id": "de967fff",
   "metadata": {},
   "outputs": [
    {
     "data": {
      "image/png": "[encoded data removed]",
      "text/plain": [
       "<Figure size 1000x600 with 1 Axes>"
      ]
     },
     "metadata": {},
     "output_type": "display_data"
    }
   ],
   "source": [
    "# Bar plot of top N intents in train dataset\n",
    "top_n = 10  # Number of top intents to display\n",
    "top_intents = train_df['intent'].value_counts().nlargest(top_n).index\n",
    "plt.figure(figsize=(10, 6))\n",
    "sns.countplot(data=train_df[train_df['intent'].isin(top_intents)], x='intent')\n",
    "plt.title(f'Top {top_n} Intents')\n",
    "plt.xlabel('Intent')\n",
    "plt.ylabel('Count')\n",
    "plt.xticks(rotation=45)\n",
    "plt.show()"
   ]
  },
  {
   "cell_type": "markdown",
   "id": "0f4f2301",
   "metadata": {},
   "source": [
    "Based on the above visuals, we can clearly see that our data is unbalanced, with most of the customer intents towars the flights more than the others, therefore we need to make sure that our code will cover the unbalanced data to avoid overfitting. One common approach that we might use would be to oversample the data, but this will only be proven when we explore our models below further."
   ]
  },
  {
   "cell_type": "markdown",
   "id": "3c48a326",
   "metadata": {},
   "source": [
    "----------------------------------------"
   ]
  },
  {
   "cell_type": "markdown",
   "id": "b931f8b6",
   "metadata": {},
   "source": [
    "# Data Modeling/Training"
   ]
  },
  {
   "cell_type": "markdown",
   "id": "f87feebd",
   "metadata": {},
   "source": [
    "## I. Model 1: BERT Model"
   ]
  },
  {
   "cell_type": "markdown",
   "id": "fcd68da7",
   "metadata": {},
   "source": [
    "BERT Overview:\n",
    "- BERT (Bidirectional Encoder Representations from Transformers) is a cutting-edge language model designed by Google AI Language for natural language processing (NLP).\n",
    "\n",
    "Key Features:\n",
    "- Utilizes masked language modeling, preventing a word from \"seeing itself\" to understand context-dependent meanings.\n",
    "- Bi-directional design captures contextual information from both preceding and following words, enhancing comprehension.\n",
    "\n",
    "Significance in NLP:\n",
    "- A powerful language representation model, BERT has significantly advanced NLP by providing deep bidirectional representations through pre-training.\n",
    "\n",
    "Operational Mechanism:\n",
    "- Functions as an encoder mapping input tokens to output vectors, adaptable for sequences of varying lengths."
   ]
  },
  {
   "cell_type": "markdown",
   "id": "4fbf3fb5",
   "metadata": {},
   "source": [
    "----------------------------------------------------------"
   ]
  },
  {
   "cell_type": "markdown",
   "id": "9887d097",
   "metadata": {},
   "source": [
    "Here, we create a mapping between the original labels in the train_df DataFrame and their corresponding numerical values. This is done to convert the labels into a format that can be used for training the model. The mapping is stored in the label_map dictionary, and we update the intent column in the train_df DataFrame to contain the numerical values."
   ]
  },
  {
   "cell_type": "markdown",
   "id": "01456861",
   "metadata": {},
   "source": [
    "In this section, we split the train dataset into train and validation sets using the train_test_split function from the sklearn.model_selection module. The train_text and val_text variables contain the text data from the train and validation sets, while train_labels and val_labels contain the corresponding labels. The test_size parameter specifies the fraction of data to be used for validation (20% in this case), and random_state ensures reproducibility. The stratify parameter is used to ensure that the distribution of labels is similar in both the train and validation sets."
   ]
  },
  {
   "cell_type": "markdown",
   "id": "244cbc4b",
   "metadata": {},
   "source": [
    "In this section, we use the tokenizer to tokenize the text data for the train, validation, and test sets. The batch_encode_plus method tokenizes a list of texts, performs truncation and padding, and returns the encoded inputs as PyTorch tensors. The truncation=True parameter ensures that the input is truncated if it exceeds the maximum length of 128 tokens. The padding=True parameter adds padding tokens to make all input sequences of equal length. The max_length=128 parameter sets the maximum length of the tokenized sequences. The tokenized and encoded inputs are stored in train_encodings, val_encodings, and test_encodings."
   ]
  },
  {
   "cell_type": "markdown",
   "id": "0c642b16",
   "metadata": {},
   "source": [
    "-----------------------------------------"
   ]
  },
  {
   "cell_type": "code",
   "execution_count": 13,
   "id": "f7d08a40",
   "metadata": {},
   "outputs": [],
   "source": [
    "# Map the original labels to numerical values\n",
    "label_map = {label: i for i, label in enumerate(train_df[\"intent\"].unique())}\n",
    "train_df[\"intent\"] = train_df[\"intent\"].map(label_map)\n",
    "\n",
    "# Split the train dataset into train and validation sets\n",
    "train_text, val_text, train_labels, val_labels = train_test_split(\n",
    "    train_df[\"Request\"].values,\n",
    "    train_df[\"intent\"].values,\n",
    "    test_size=0.2,\n",
    "    random_state=42,\n",
    "    stratify=train_df[\"intent\"].values,\n",
    ")\n",
    "\n",
    "# Load the BERT tokenizer\n",
    "tokenizer = BertTokenizer.from_pretrained(\"bert-base-uncased\", do_lower_case=True)\n",
    "\n",
    "# Tokenize the text data\n",
    "train_encodings = tokenizer.batch_encode_plus(\n",
    "    train_text.tolist(),\n",
    "    truncation=True,\n",
    "    padding=True,\n",
    "    max_length=128,\n",
    "    return_tensors=\"pt\",\n",
    ")\n",
    "\n",
    "val_encodings = tokenizer.batch_encode_plus(\n",
    "    val_text.tolist(),\n",
    "    truncation=True,\n",
    "    padding=True,\n",
    "    max_length=128,\n",
    "    return_tensors=\"pt\",\n",
    ")\n",
    "\n",
    "test_encodings = tokenizer.batch_encode_plus(\n",
    "    test_df[\"Request\"].tolist(),\n",
    "    truncation=True,\n",
    "    padding=True,\n",
    "    max_length=128,\n",
    "    return_tensors=\"pt\",\n",
    ")\n",
    "\n",
    "# Create PyTorch datasets\n",
    "train_dataset = TensorDataset(\n",
    "    train_encodings[\"input_ids\"],\n",
    "    train_encodings[\"attention_mask\"],\n",
    "    torch.tensor(train_labels),\n",
    ")\n",
    "\n",
    "val_dataset = TensorDataset(\n",
    "    val_encodings[\"input_ids\"],\n",
    "    val_encodings[\"attention_mask\"],\n",
    "    torch.tensor(val_labels),\n",
    ")\n",
    "\n",
    "test_dataset = TensorDataset(\n",
    "    test_encodings[\"input_ids\"],\n",
    "    test_encodings[\"attention_mask\"],\n",
    ")"
   ]
  },
  {
   "cell_type": "markdown",
   "id": "92790bae",
   "metadata": {},
   "source": [
    "---------------------------------------------------------"
   ]
  },
  {
   "cell_type": "markdown",
   "id": "1e918063",
   "metadata": {},
   "source": [
    "Here, we create PyTorch TensorDataset objects for the train, validation, and test sets. The TensorDataset is a PyTorch class that allows us to combine the input data (tokenized sequences) with the corresponding labels. In this case, the train dataset includes input_ids, attention_mask, and labels."
   ]
  },
  {
   "cell_type": "code",
   "execution_count": 16,
   "id": "098753b5",
   "metadata": {},
   "outputs": [
    {
     "name": "stderr",
     "output_type": "stream",
     "text": [
      "Some weights of BertForSequenceClassification were not initialized from the model checkpoint at bert-base-uncased and are newly initialized: ['classifier.weight', 'classifier.bias']\n",
      "You should probably TRAIN this model on a down-stream task to be able to use it for predictions and inference.\n",
      "/Users/halasedki/anaconda3/lib/python3.11/site-packages/transformers/optimization.py:411: FutureWarning: This implementation of AdamW is deprecated and will be removed in a future version. Use the PyTorch implementation torch.optim.AdamW instead, or set `no_deprecation_warning=True` to disable this warning\n",
      "  warnings.warn(\n"
     ]
    }
   ],
   "source": [
    "# Define the BERT model for sequence classification\n",
    "model = BertForSequenceClassification.from_pretrained(\n",
    "    \"bert-base-uncased\",\n",
    "    num_labels=len(label_map),\n",
    "    output_attentions=False,\n",
    "    output_hidden_states=False,\n",
    ")\n",
    "\n",
    "# Set the device (GPU if available, else CPU)\n",
    "device = torch.device(\"cuda\" if torch.cuda.is_available() else \"cpu\")\n",
    "\n",
    "# Move the model to the device\n",
    "model.to(device)\n",
    "\n",
    "# Define the training parameters\n",
    "batch_size = 128\n",
    "epochs = 5\n",
    "learning_rate = 2e-5\n",
    "\n",
    "# Create data loaders\n",
    "train_loader = DataLoader(\n",
    "    train_dataset,\n",
    "    batch_size=batch_size,\n",
    "    sampler=RandomSampler(train_dataset),\n",
    ")\n",
    "\n",
    "val_loader = DataLoader(\n",
    "    val_dataset,\n",
    "    batch_size=batch_size,\n",
    "    sampler=SequentialSampler(val_dataset),\n",
    ")\n",
    "\n",
    "test_loader = DataLoader(\n",
    "    test_dataset,\n",
    "    batch_size=batch_size,\n",
    "    sampler=SequentialSampler(test_dataset),\n",
    ")\n",
    "\n",
    "# Set the optimizer and learning rate scheduler\n",
    "optimizer = AdamW(model.parameters(), lr=learning_rate, eps=1e-8)"
   ]
  },
  {
   "cell_type": "markdown",
   "id": "f681d613",
   "metadata": {},
   "source": [
    "Here, we also import the BertTokenizer class from the transformers library. The BertTokenizer is used to tokenize the text data, i.e., convert the input text into a sequence of tokens that can be understood by the BERT model. We initialize the tokenizer with the \"bert-base-uncased\" model and set do_lower_case=True to convert all text to lowercase during tokenization. This is done using Adam as it has worked significantly better than the SGD optimizer, although SGD has worked well with other text classification models. We have also found after numerous trails that when you increase the batch size, it yields a much higher accuracy during the testing phase, although in the training phase relatively similar val_accuracy scores."
   ]
  },
  {
   "cell_type": "markdown",
   "id": "29d9ee9a",
   "metadata": {},
   "source": [
    "--------------------------------------------------------------------"
   ]
  },
  {
   "cell_type": "code",
   "execution_count": 17,
   "id": "f7b5adee",
   "metadata": {},
   "outputs": [
    {
     "name": "stdout",
     "output_type": "stream",
     "text": [
      "Epoch 5 - Avg train loss: 0.0703 - Val accuracy: 0.9862\n"
     ]
    }
   ],
   "source": [
    "# Training loop\n",
    "model.train()\n",
    "for epoch in range(epochs):\n",
    "    total_loss = 0\n",
    "\n",
    "    for batch in train_loader:\n",
    "        batch = tuple(t.to(device) for t in batch)\n",
    "        inputs = {\"input_ids\": batch[0], \"attention_mask\": batch[1], \"labels\": batch[2]}\n",
    "\n",
    "        optimizer.zero_grad()\n",
    "        outputs = model(**inputs)\n",
    "        loss = outputs.loss\n",
    "        total_loss += loss.item()\n",
    "\n",
    "        loss.backward()\n",
    "        torch.nn.utils.clip_grad_norm_(model.parameters(), 1.0)\n",
    "\n",
    "        optimizer.step()\n",
    "\n",
    "    avg_train_loss = total_loss / len(train_loader)\n",
    "# Validation loop\n",
    "model.eval()\n",
    "val_predictions = []\n",
    "val_labels = []\n",
    "\n",
    "for batch in val_loader:\n",
    "    batch = tuple(t.to(device) for t in batch)\n",
    "    inputs = {\"input_ids\": batch[0], \"attention_mask\": batch[1], \"labels\": batch[2]}\n",
    "\n",
    "    with torch.no_grad():\n",
    "        outputs = model(**inputs)\n",
    "\n",
    "    logits = outputs.logits\n",
    "    predictions = torch.argmax(logits, dim=1)\n",
    "    val_predictions.extend(predictions.tolist())\n",
    "    val_labels.extend(inputs[\"labels\"].tolist())\n",
    "\n",
    "val_accuracy = (torch.tensor(val_predictions) == torch.tensor(val_labels)).float().mean()\n",
    "print(f\"Epoch {epoch+1} - Avg train loss: {avg_train_loss:.4f} - Val accuracy: {val_accuracy:.4f}\")\n",
    "\n",
    "# Test the model\n",
    "model.eval()\n",
    "test_predictions = []\n",
    "\n",
    "for batch in test_loader:\n",
    "    batch = tuple(t.to(device) for t in batch)\n",
    "    inputs = {\"input_ids\": batch[0], \"attention_mask\": batch[1]}\n",
    "\n",
    "    with torch.no_grad():\n",
    "        outputs = model(**inputs)\n",
    "\n",
    "    logits = outputs.logits\n",
    "    predictions = torch.argmax(logits, dim=1)\n",
    "    test_predictions.extend(predictions.tolist())\n",
    "\n",
    "# Map the numerical labels back to the original labels\n",
    "reverse_label_map = {i: label for label, i in label_map.items()}\n",
    "test_predictions = [reverse_label_map[prediction] for prediction in test_predictions]\n",
    "\n",
    "# Create the submission DataFrame\n",
    "submission_df = pd.DataFrame({\"id\": test_df[\"Rid\"], \"intent\": test_predictions})\n",
    "\n",
    "# Save the submission DataFrame to a CSV file\n",
    "submission_df.to_csv(\"s8ep128eps2lr.csv\", index=False)"
   ]
  },
  {
   "cell_type": "markdown",
   "id": "41bd0ae0",
   "metadata": {},
   "source": [
    "In this last part of the code:\n",
    "\n",
    "- We set the model to evaluation mode using model.eval() to disable dropout and enable inference mode.\n",
    "- We initialize an empty list test_predictions to store the predicted labels for the test set.\n",
    "- Using a with torch.no_grad() block, we iterate over the test data loader.\n",
    "- Inside the loop, we move the input tensors to the appropriate device (CPU or GPU) using .to(device).\n",
    "- We pass the input tensors to the model and obtain the logits, which represent the predicted scores for each class.\n",
    "- We use torch.max(logits, dim=1) to get the predicted labels by selecting the class with the highest score.\n",
    "- We extend the test_predictions list with the predicted labels converted to numpy arrays and stored on the CPU using .cpu().numpy().\n",
    "- After the loop, we have the predicted labels for the entire test set stored in test_predictions.\n",
    "- We map the numerical predictions back to their original labels using a list comprehension and the label_map dictionary.\n",
    "- Finally, we update the \"intent\" column in the test_df DataFrame with the predicted labels, and save the DataFrame to a CSV file named \"test_predictions.csv\" using .to_csv()."
   ]
  },
  {
   "cell_type": "markdown",
   "id": "1fb665fd",
   "metadata": {},
   "source": [
    "----------------------------"
   ]
  },
  {
   "cell_type": "markdown",
   "id": "6ab785b4",
   "metadata": {},
   "source": [
    "## II. Model 2: XLNet Model"
   ]
  },
  {
   "cell_type": "markdown",
   "id": "1ac472ca",
   "metadata": {},
   "source": [
    "XLNet is a generalized autoregressive model that extends the transformer architecture. \n",
    "\n",
    "Key points include:\n",
    "- Generalized Autoregressive Model: XLNet is a type of autoregressive model where each token's prediction depends on all the preceding tokens. This captures bidirectional context, offering advantages over unidirectional models like BERT.\n",
    "\n",
    "Transformer Architecture: \n",
    "- XLNet utilizes the transformer architecture, outputting the joint probability of a sequence of tokens. It's an auto-regressive language model that avoids some limitations of previous models.\n",
    "\n",
    "Revolutionary Language Model: \n",
    "- Developed by Google Brain and Carnegie Mellon, XLNet is recognized as a revolutionary language model that has outperformed BERT in certain tasks."
   ]
  },
  {
   "cell_type": "markdown",
   "id": "ce884587",
   "metadata": {},
   "source": [
    "##### Step 1: Importing Required Libraries\n",
    "This code imports the necessary libraries for the XLNet Model in the subsequent steps."
   ]
  },
  {
   "cell_type": "code",
   "execution_count": 18,
   "id": "6c550f35",
   "metadata": {},
   "outputs": [],
   "source": [
    "import pandas as pd\n",
    "from sklearn.model_selection import train_test_split\n",
    "from sklearn.metrics import classification_report\n",
    "from transformers import XLNetTokenizer, XLNetForSequenceClassification, AdamW\n",
    "import torch\n",
    "from torch.utils.data import TensorDataset, DataLoader, RandomSampler, SequentialSampler"
   ]
  },
  {
   "cell_type": "markdown",
   "id": "7572e518",
   "metadata": {},
   "source": [
    "##### Step 2: Loading the Train and Test Datasets\n",
    "This code loads the train and test datasets from CSV files."
   ]
  },
  {
   "cell_type": "code",
   "execution_count": 19,
   "id": "4d53c7e5",
   "metadata": {},
   "outputs": [],
   "source": [
    "# Load the train and test datasets\n",
    "train_df = pd.read_csv(\"train_atis.csv\")\n",
    "test_df = pd.read_csv(\"test_atis.csv\")"
   ]
  },
  {
   "cell_type": "markdown",
   "id": "f97cbe07",
   "metadata": {},
   "source": [
    "##### Step 3: Mapping Labels to Numerical Values\n",
    "This code maps the original labels in the train dataset to numerical values."
   ]
  },
  {
   "cell_type": "code",
   "execution_count": 20,
   "id": "479001be",
   "metadata": {},
   "outputs": [],
   "source": [
    "# Map the original labels to numerical values\n",
    "label_map = {label: i for i, label in enumerate(train_df[\"intent\"].unique())}\n",
    "train_df[\"intent\"] = train_df[\"intent\"].map(label_map)"
   ]
  },
  {
   "cell_type": "markdown",
   "id": "93e40693",
   "metadata": {},
   "source": [
    "##### Step 4: Splitting the Train Dataset\n",
    "This code splits the train dataset into train and validation sets"
   ]
  },
  {
   "cell_type": "code",
   "execution_count": 21,
   "id": "111630ae",
   "metadata": {},
   "outputs": [],
   "source": [
    "# Split the train dataset into train and validation sets\n",
    "train_text, val_text, train_labels, val_labels = train_test_split(\n",
    "    train_df[\"Request\"].values,\n",
    "    train_df[\"intent\"].values,\n",
    "    test_size=0.2,\n",
    "    random_state=42,\n",
    "    stratify=train_df[\"intent\"].values,\n",
    ")"
   ]
  },
  {
   "cell_type": "markdown",
   "id": "fb1dbd18",
   "metadata": {},
   "source": [
    "##### Step 5: Tokenizing the Text Data\n",
    "This code tokenizes the text data using the XLNet tokenizer. The XLnet Tokenizer is:\n",
    "- XLNet is a Transformer model, and its tokenizer is designed to process and encode textual data for various natural language processing tasks.\n",
    "- The XLNet tokenizer employs a sentence piece tokenizer for text tokenization, as mentioned in the Hugging Face documentation.\n",
    "- XLNet, an extension of the Transformer-XL model, utilizes an autoregressive method during pre-training to learn bidirectional contexts, enhancing its understanding of language structures[3][4]."
   ]
  },
  {
   "cell_type": "code",
   "execution_count": 22,
   "id": "9ddb65f8",
   "metadata": {},
   "outputs": [
    {
     "data": {
      "application/vnd.jupyter.widget-view+json": {
       "model_id": "7d5b70c3c4264e15804b47444bc9ec34",
       "version_major": 2,
       "version_minor": 0
      },
      "text/plain": [
       "Downloading spiece.model:   0%|          | 0.00/798k [00:00<?, ?B/s]"
      ]
     },
     "metadata": {},
     "output_type": "display_data"
    },
    {
     "data": {
      "application/vnd.jupyter.widget-view+json": {
       "model_id": "11a8fc36ff6f4e7bb965ad004f2a990d",
       "version_major": 2,
       "version_minor": 0
      },
      "text/plain": [
       "Downloading config.json:   0%|          | 0.00/760 [00:00<?, ?B/s]"
      ]
     },
     "metadata": {},
     "output_type": "display_data"
    }
   ],
   "source": [
    "# Load the XLNet tokenizer\n",
    "tokenizer = XLNetTokenizer.from_pretrained(\"xlnet-base-cased\")"
   ]
  },
  {
   "cell_type": "code",
   "execution_count": 23,
   "id": "0402a958",
   "metadata": {},
   "outputs": [],
   "source": [
    "# Tokenize the text data\n",
    "train_encodings = tokenizer.batch_encode_plus(\n",
    "    train_text.tolist(),\n",
    "    truncation=True,\n",
    "    padding=True,\n",
    "    max_length=128,\n",
    "    return_tensors=\"pt\",\n",
    ")\n",
    "\n",
    "val_encodings = tokenizer.batch_encode_plus(\n",
    "    val_text.tolist(),\n",
    "    truncation=True,\n",
    "    padding=True,\n",
    "    max_length=128,\n",
    "    return_tensors=\"pt\",\n",
    ")\n",
    "\n",
    "test_encodings = tokenizer.batch_encode_plus(\n",
    "    test_df[\"Request\"].tolist(),\n",
    "    truncation=True,\n",
    "    padding=True,\n",
    "    max_length=128,\n",
    "    return_tensors=\"pt\",\n",
    ")"
   ]
  },
  {
   "cell_type": "markdown",
   "id": "942805f2",
   "metadata": {},
   "source": [
    "##### Step 6: Creating PyTorch Datasets\n",
    "This code creates PyTorch datasets from the tokenized encodings and labels."
   ]
  },
  {
   "cell_type": "code",
   "execution_count": 24,
   "id": "ab53046c",
   "metadata": {},
   "outputs": [],
   "source": [
    "# Create PyTorch datasets\n",
    "train_dataset = TensorDataset(\n",
    "    train_encodings[\"input_ids\"],\n",
    "    train_encodings[\"attention_mask\"],\n",
    "    torch.tensor(train_labels),\n",
    ")\n",
    "\n",
    "val_dataset = TensorDataset(\n",
    "    val_encodings[\"input_ids\"],\n",
    "    val_encodings[\"attention_mask\"],\n",
    "    torch.tensor(val_labels),\n",
    ")\n",
    "\n",
    "test_dataset = TensorDataset(\n",
    "    test_encodings[\"input_ids\"],\n",
    "    test_encodings[\"attention_mask\"],\n",
    ")"
   ]
  },
  {
   "cell_type": "markdown",
   "id": "b3254f04",
   "metadata": {},
   "source": [
    "##### Step 7: Defining the XLNet Model for Sequence Classification\n",
    "This code defines the XLNet model for sequence classification."
   ]
  },
  {
   "cell_type": "code",
   "execution_count": 25,
   "id": "12fbca73",
   "metadata": {},
   "outputs": [
    {
     "data": {
      "application/vnd.jupyter.widget-view+json": {
       "model_id": "a562b5ed5ab3412ea822330dcf80e303",
       "version_major": 2,
       "version_minor": 0
      },
      "text/plain": [
       "Downloading pytorch_model.bin:   0%|          | 0.00/467M [00:00<?, ?B/s]"
      ]
     },
     "metadata": {},
     "output_type": "display_data"
    },
    {
     "name": "stderr",
     "output_type": "stream",
     "text": [
      "Some weights of XLNetForSequenceClassification were not initialized from the model checkpoint at xlnet-base-cased and are newly initialized: ['sequence_summary.summary.weight', 'sequence_summary.summary.bias', 'logits_proj.bias', 'logits_proj.weight']\n",
      "You should probably TRAIN this model on a down-stream task to be able to use it for predictions and inference.\n"
     ]
    }
   ],
   "source": [
    "# Define the XLNet model for sequence classification\n",
    "model = XLNetForSequenceClassification.from_pretrained(\n",
    "    \"xlnet-base-cased\",\n",
    "    num_labels=len(label_map),\n",
    "    output_attentions=False,\n",
    "    output_hidden_states=False,\n",
    ")"
   ]
  },
  {
   "cell_type": "markdown",
   "id": "21ed293d",
   "metadata": {},
   "source": [
    "##### Step 8: Setting the Device\n",
    "This code sets the device to either GPU if available, else CPU."
   ]
  },
  {
   "cell_type": "code",
   "execution_count": 26,
   "id": "51ca5bf1",
   "metadata": {},
   "outputs": [],
   "source": [
    "# Set the device (GPU if available, else CPU)\n",
    "device = torch.device(\"cuda\" if torch.cuda.is_available() else \"cpu\")"
   ]
  },
  {
   "cell_type": "markdown",
   "id": "a05dff01",
   "metadata": {},
   "source": [
    "##### Step 9: Moving the Model to the Device\n",
    "This code moves the model to the selected device."
   ]
  },
  {
   "cell_type": "code",
   "execution_count": 27,
   "id": "bbff9319",
   "metadata": {},
   "outputs": [
    {
     "data": {
      "text/plain": [
       "XLNetForSequenceClassification(\n",
       "  (transformer): XLNetModel(\n",
       "    (word_embedding): Embedding(32000, 768)\n",
       "    (layer): ModuleList(\n",
       "      (0-11): 12 x XLNetLayer(\n",
       "        (rel_attn): XLNetRelativeAttention(\n",
       "          (layer_norm): LayerNorm((768,), eps=1e-12, elementwise_affine=True)\n",
       "          (dropout): Dropout(p=0.1, inplace=False)\n",
       "        )\n",
       "        (ff): XLNetFeedForward(\n",
       "          (layer_norm): LayerNorm((768,), eps=1e-12, elementwise_affine=True)\n",
       "          (layer_1): Linear(in_features=768, out_features=3072, bias=True)\n",
       "          (layer_2): Linear(in_features=3072, out_features=768, bias=True)\n",
       "          (dropout): Dropout(p=0.1, inplace=False)\n",
       "          (activation_function): GELUActivation()\n",
       "        )\n",
       "        (dropout): Dropout(p=0.1, inplace=False)\n",
       "      )\n",
       "    )\n",
       "    (dropout): Dropout(p=0.1, inplace=False)\n",
       "  )\n",
       "  (sequence_summary): SequenceSummary(\n",
       "    (summary): Linear(in_features=768, out_features=768, bias=True)\n",
       "    (activation): Tanh()\n",
       "    (first_dropout): Identity()\n",
       "    (last_dropout): Dropout(p=0.1, inplace=False)\n",
       "  )\n",
       "  (logits_proj): Linear(in_features=768, out_features=8, bias=True)\n",
       ")"
      ]
     },
     "execution_count": 27,
     "metadata": {},
     "output_type": "execute_result"
    }
   ],
   "source": [
    "# Move the model to the device\n",
    "model.to(device)"
   ]
  },
  {
   "cell_type": "markdown",
   "id": "1bc34d31",
   "metadata": {},
   "source": [
    "##### Step 10: Defining Training Parameters\n",
    "This code defines the parameters for training the model. In our previous models, it was found that the best batch size for a higher accuracy was 128, hence why we finally set it to 128. As for the epochs, we are exploring after how many epochs would it tend a higher accuracy. Finally, with all our previous models, the learning rate of 2e-5 always yielded also a high accuracy."
   ]
  },
  {
   "cell_type": "code",
   "execution_count": 28,
   "id": "f10196a1",
   "metadata": {},
   "outputs": [],
   "source": [
    "# Define the training parameters\n",
    "batch_size = 128\n",
    "epochs = 10\n",
    "learning_rate = 2e-5"
   ]
  },
  {
   "cell_type": "markdown",
   "id": "d3fc1fd9",
   "metadata": {},
   "source": [
    "##### Step 11: Creating Data Loaders\n",
    "This code creates data loaders for the train, validation, and test datasets."
   ]
  },
  {
   "cell_type": "code",
   "execution_count": 29,
   "id": "7f3492da",
   "metadata": {},
   "outputs": [],
   "source": [
    "# Create data loaders\n",
    "train_loader = DataLoader(\n",
    "    train_dataset,\n",
    "    batch_size=batch_size,\n",
    "    sampler=RandomSampler(train_dataset),\n",
    ")\n",
    "\n",
    "val_loader = DataLoader(\n",
    "    val_dataset,\n",
    "    batch_size=batch_size,\n",
    "    sampler=SequentialSampler(val_dataset),\n",
    ")\n",
    "\n",
    "test_loader = DataLoader(\n",
    "    test_dataset,\n",
    "    batch_size=batch_size,\n",
    "    sampler=SequentialSampler(test_dataset),\n",
    ")"
   ]
  },
  {
   "cell_type": "markdown",
   "id": "2d5798c1",
   "metadata": {},
   "source": [
    "##### Step 12: Setting the Optimizer and Learning Rate Scheduler\n",
    "This code sets the optimizer and learning rate scheduler for training the model."
   ]
  },
  {
   "cell_type": "code",
   "execution_count": 30,
   "id": "332e2f1e",
   "metadata": {},
   "outputs": [
    {
     "name": "stderr",
     "output_type": "stream",
     "text": [
      "/Users/halasedki/anaconda3/lib/python3.11/site-packages/transformers/optimization.py:411: FutureWarning: This implementation of AdamW is deprecated and will be removed in a future version. Use the PyTorch implementation torch.optim.AdamW instead, or set `no_deprecation_warning=True` to disable this warning\n",
      "  warnings.warn(\n"
     ]
    }
   ],
   "source": [
    "# Set the optimizer and learning rate scheduler\n",
    "optimizer = AdamW(model.parameters(), lr=learning_rate, eps=1e-8)"
   ]
  },
  {
   "cell_type": "markdown",
   "id": "b04e3d58",
   "metadata": {},
   "source": [
    "##### Step 13: Training Loop\n",
    "This code performs the training loop for the specified number of epochs."
   ]
  },
  {
   "cell_type": "code",
   "execution_count": 31,
   "id": "c43b3a6b",
   "metadata": {},
   "outputs": [
    {
     "name": "stdout",
     "output_type": "stream",
     "text": [
      "Epoch 1 - Avg train loss: 0.9857 - Val accuracy: 0.8150\n",
      "Epoch 2 - Avg train loss: 0.3820 - Val accuracy: 0.9575\n",
      "Epoch 3 - Avg train loss: 0.0913 - Val accuracy: 0.9812\n",
      "Epoch 4 - Avg train loss: 0.0211 - Val accuracy: 0.9900\n",
      "Epoch 5 - Avg train loss: 0.0085 - Val accuracy: 0.9825\n",
      "Epoch 6 - Avg train loss: 0.0085 - Val accuracy: 0.9850\n",
      "Epoch 7 - Avg train loss: 0.0018 - Val accuracy: 0.9862\n",
      "Epoch 8 - Avg train loss: 0.0007 - Val accuracy: 0.9875\n",
      "Epoch 9 - Avg train loss: 0.0005 - Val accuracy: 0.9875\n",
      "Epoch 10 - Avg train loss: 0.0004 - Val accuracy: 0.9875\n"
     ]
    }
   ],
   "source": [
    "# Training loop\n",
    "model.train()\n",
    "for epoch in range(epochs):\n",
    "    total_loss = 0\n",
    "\n",
    "    for batch in train_loader:\n",
    "        batch = tuple(t.to(device) for t in batch)\n",
    "        inputs = {\"input_ids\": batch[0], \"attention_mask\": batch[1], \"labels\": batch[2]}\n",
    "\n",
    "        optimizer.zero_grad()\n",
    "        outputs = model(**inputs)\n",
    "        loss = outputs.loss\n",
    "        total_loss += loss.item()\n",
    "\n",
    "        loss.backward()\n",
    "        torch.nn.utils.clip_grad_norm_(model.parameters(), 1.0)\n",
    "\n",
    "        optimizer.step()\n",
    "\n",
    "    avg_train_loss = total_loss / len(train_loader)\n",
    "\n",
    "    # Validation loop\n",
    "    model.eval()\n",
    "    val_predictions = []\n",
    "    val_labels = []\n",
    "\n",
    "    for batch in val_loader:\n",
    "        batch = tuple(t.to(device) for t in batch)\n",
    "        inputs = {\"input_ids\": batch[0], \"attention_mask\": batch[1], \"labels\": batch[2]}\n",
    "\n",
    "        with torch.no_grad():\n",
    "            outputs = model(**inputs)\n",
    "\n",
    "        logits = outputs.logits\n",
    "        predictions = torch.argmax(logits, dim=1)\n",
    "        val_predictions.extend(predictions.tolist())\n",
    "        val_labels.extend(inputs[\"labels\"].tolist())\n",
    "\n",
    "    val_accuracy = (torch.tensor(val_predictions) == torch.tensor(val_labels)).float().mean()\n",
    "    print(f\"Epoch {epoch+1} - Avg train loss: {avg_train_loss:.4f} - Val accuracy: {val_accuracy:.4f}\")"
   ]
  },
  {
   "cell_type": "markdown",
   "id": "1aa2232e",
   "metadata": {},
   "source": [
    "In the above code, it was found that 4 epochs has the highest val_accuracy and but the end the loss was minimal but accuracy stayed the same"
   ]
  },
  {
   "cell_type": "markdown",
   "id": "347ed968",
   "metadata": {},
   "source": [
    "##### Step 14: Testing the Model\n",
    "Here we are evaluating the trained model on the test dataset."
   ]
  },
  {
   "cell_type": "code",
   "execution_count": 32,
   "id": "fe64fb84",
   "metadata": {},
   "outputs": [],
   "source": [
    "# Test the model\n",
    "model.eval()\n",
    "test_predictions = []\n",
    "\n",
    "for batch in test_loader:\n",
    "    batch = tuple(t.to(device) for t in batch)\n",
    "    inputs = {\"input_ids\": batch[0],\"attention_mask\": batch[1]}\n",
    "\n",
    "    with torch.no_grad():\n",
    "        outputs = model(**inputs)\n",
    "\n",
    "    logits = outputs.logits\n",
    "    predictions = torch.argmax(logits, dim=1)\n",
    "    test_predictions.extend(predictions.tolist())"
   ]
  },
  {
   "cell_type": "markdown",
   "id": "74216a3a",
   "metadata": {},
   "source": [
    "##### Step 15: Mapping Numerical Labels to Original Labels\n",
    "This code maps the numerical labels back to the original labels, so we can correctly use it for the prediction csv"
   ]
  },
  {
   "cell_type": "code",
   "execution_count": 33,
   "id": "2c28e617",
   "metadata": {},
   "outputs": [],
   "source": [
    "# Map the numerical labels back to the original labels\n",
    "reverse_label_map = {i: label for label, i in label_map.items()}\n",
    "test_predictions = [reverse_label_map[prediction] for prediction in test_predictions]"
   ]
  },
  {
   "cell_type": "markdown",
   "id": "e13be471",
   "metadata": {},
   "source": [
    "##### Step 16: Creating the Submission DataFrame\n",
    "This code creates a submission DataFrame with the test predictions, then saves the submission DataFrame to a CSV file."
   ]
  },
  {
   "cell_type": "code",
   "execution_count": 34,
   "id": "b6a7af49",
   "metadata": {},
   "outputs": [],
   "source": [
    "# Create the submission DataFrame\n",
    "submission_df = pd.DataFrame({\"id\": test_df[\"Rid\"], \"intent\": test_predictions})"
   ]
  },
  {
   "cell_type": "markdown",
   "id": "2845cb30",
   "metadata": {},
   "source": [
    "------------------------------------------"
   ]
  },
  {
   "cell_type": "markdown",
   "id": "a6d36279",
   "metadata": {},
   "source": [
    "## III. Model 3: SVM w/Grid Search Model"
   ]
  },
  {
   "cell_type": "markdown",
   "id": "d2774e93",
   "metadata": {},
   "source": [
    "Support Vector Machine (SVM) with Grid model is an advanced approach in machine learning for hyperparameter tuning. \n",
    "In a more detailed explanation:\n",
    "\n",
    "\n",
    "SVM Overview: \n",
    "- SVM is a powerful supervised algorithm for complex datasets. It works by creating a decision boundary, often referred to as the maximum margin hyperplane, which optimally separates different classes in the data.\n",
    "\n",
    "GridSearchCV for SVM: \n",
    "- Grid search is employed to optimize SVM hyperparameters systematically. It explores various combinations of hyperparameters, such as kernel type and regularization parameter, to find the most effective model.\n",
    "\n",
    "Working Principle: \n",
    "- SVM works by mapping data into a higher-dimensional space, allowing it to find a hyperplane that best separates the classes. Grid search aids in finding the optimal hyperplane by exhaustively searching through specified hyperparameter values.\n",
    "\n",
    "Benefits: \n",
    "- SVM with Grid model enhances model performance by fine-tuning hyperparameters, making it particularly useful for improving accuracy on diverse datasets."
   ]
  },
  {
   "cell_type": "markdown",
   "id": "ce89ab4f",
   "metadata": {},
   "source": [
    "### Import Necessary Libraries\n",
    "Import necessary libraries such as pandas, numpy, and machine learning tools from scikit-learn."
   ]
  },
  {
   "cell_type": "code",
   "execution_count": 35,
   "id": "2b678385",
   "metadata": {},
   "outputs": [
    {
     "name": "stderr",
     "output_type": "stream",
     "text": [
      "[nltk_data] Downloading package punkt to /Users/halasedki/nltk_data...\n",
      "[nltk_data]   Package punkt is already up-to-date!\n",
      "[nltk_data] Downloading package stopwords to\n",
      "[nltk_data]     /Users/halasedki/nltk_data...\n",
      "[nltk_data]   Package stopwords is already up-to-date!\n"
     ]
    },
    {
     "data": {
      "text/plain": [
       "True"
      ]
     },
     "execution_count": 35,
     "metadata": {},
     "output_type": "execute_result"
    }
   ],
   "source": [
    "# Importing Necessary Libraries\n",
    "import pandas as pd\n",
    "import nltk\n",
    "from nltk.corpus import stopwords\n",
    "from nltk.stem import PorterStemmer\n",
    "from sklearn.feature_extraction.text import TfidfVectorizer\n",
    "from sklearn.svm import LinearSVC\n",
    "from sklearn.pipeline import make_pipeline, Pipeline\n",
    "from sklearn.metrics import classification_report\n",
    "from sklearn.model_selection import GridSearchCV\n",
    "\n",
    "# Download NLTK resources\n",
    "nltk.download('punkt')\n",
    "nltk.download('stopwords')"
   ]
  },
  {
   "cell_type": "markdown",
   "id": "c9cdf77c",
   "metadata": {},
   "source": [
    "### Loading the Data\n",
    "Load and preprocess the dataset using pandas. this include reading data files, cleaning data, and preparing it for analysis."
   ]
  },
  {
   "cell_type": "code",
   "execution_count": 36,
   "id": "dacf7253",
   "metadata": {},
   "outputs": [
    {
     "data": {
      "text/plain": [
       "(         intent  Rid                                            Request\n",
       " 0   atis_flight    1  i would like to fly the cheapest rate availabl...\n",
       " 1  atis_airline    2  show me airlines with flights from pittsburgh ...\n",
       " 2   atis_flight    3  show me the continental flights with meals whi...\n",
       " 3   atis_flight    4     show me flights from denver to dc on wednesday\n",
       " 4   atis_flight    5  do you have a flight from atlanta to charlotte...,\n",
       "     Rid                                            Request\n",
       " 0  4001     show me ground transportation in washington dc\n",
       " 1  4002    i need to fly from boston to denver this monday\n",
       " 2  4003  show me all flights between san francisco and ...\n",
       " 3  4004        flight between st. petersburg and charlotte\n",
       " 4  4005    which airlines fly between boston and baltimore)"
      ]
     },
     "execution_count": 36,
     "metadata": {},
     "output_type": "execute_result"
    }
   ],
   "source": [
    "# Loading the Data\n",
    "# File paths\n",
    "train_file_path = 'train_atis.csv'\n",
    "test_file_path = 'test_atis.csv'\n",
    "\n",
    "# Load the datasets\n",
    "train_df = pd.read_csv(train_file_path)\n",
    "test_df = pd.read_csv(test_file_path)\n",
    "\n",
    "# Display the first few rows of each dataset\n",
    "train_df.head(), test_df.head()"
   ]
  },
  {
   "cell_type": "markdown",
   "id": "6bb2156c",
   "metadata": {},
   "source": [
    "### Data Preprocessing"
   ]
  },
  {
   "cell_type": "code",
   "execution_count": 47,
   "id": "e9406d2a",
   "metadata": {},
   "outputs": [],
   "source": [
    "def preprocess_text(text):\n",
    "    # Tokenization and lowercasing\n",
    "    tokens = nltk.word_tokenize(text.lower())\n",
    "    \n",
    "    # Removing punctuation and numbers\n",
    "    tokens = [word for word in tokens if word.isalpha()]\n",
    "    \n",
    "    # Removing stopwords\n",
    "    tokens = [word for word in tokens if word not in stopwords.words('english')]\n",
    "    \n",
    "    # Stemming\n",
    "    stemmer = PorterStemmer()\n",
    "    tokens = [stemmer.stem(word) for word in tokens]\n",
    "\n",
    "    return ' '.join(tokens)\n",
    "\n",
    "# Applying the preprocessing\n",
    "train_df['Processed_Request'] = train_df['Request'].apply(preprocess_text)\n",
    "test_df['Processed_Request'] = test_df['Request'].apply(preprocess_text)"
   ]
  },
  {
   "cell_type": "code",
   "execution_count": 37,
   "id": "ff196be0",
   "metadata": {},
   "outputs": [],
   "source": [
    "# Preprocessing the Data\n",
    "def preprocess_text(text):\n",
    "    # Tokenization and lowercasing\n",
    "    tokens = nltk.word_tokenize(text.lower())\n",
    "    \n",
    "    # Removing punctuation and numbers\n",
    "    tokens = [word for word in tokens if word.isalpha()]\n",
    "    \n",
    "    # Removing stopwords\n",
    "    tokens = [word for word in tokens if word not in stopwords.words('english')]\n",
    "    \n",
    "    # Stemming\n",
    "    stemmer = PorterStemmer()\n",
    "    tokens = [stemmer.stem(word) for word in tokens]\n",
    "\n",
    "    return ' '.join(tokens)\n",
    "\n",
    "# Applying the preprocessing\n",
    "train_df['Processed_Request'] = train_df['Request'].apply(preprocess_text)\n",
    "test_df['Processed_Request'] = test_df['Request'].apply(preprocess_text)"
   ]
  },
  {
   "cell_type": "markdown",
   "id": "888b14d4",
   "metadata": {},
   "source": [
    "### Setting Up the Pipeline and Parameter Grid for Grid Search\n",
    "Here we are defining functions or methods for data processing or model evaluation. This might include functions for data normalization, performance metrics, etc"
   ]
  },
  {
   "cell_type": "code",
   "execution_count": 38,
   "id": "c107acc5",
   "metadata": {},
   "outputs": [],
   "source": [
    "# Setting Up the Pipeline and Parameter Grid for Grid Search\n",
    "# Create a pipeline\n",
    "pipeline = Pipeline([\n",
    "    ('tfidf', TfidfVectorizer()),\n",
    "    ('svm', LinearSVC())\n",
    "])\n",
    "\n",
    "# Parameter grid for GridSearchCV\n",
    "param_grid = {\n",
    "    'tfidf__use_idf': (True, False),\n",
    "    'svm__C': [0.1, 1, 10, 100]\n",
    "}"
   ]
  },
  {
   "cell_type": "markdown",
   "id": "3d4a3ec9",
   "metadata": {},
   "source": [
    "### Running Grid Search for Model Tuning\n",
    "Further model training or parameter tuning. This might involve cross-validation, hyperparameter tuning, or using different training strategies"
   ]
  },
  {
   "cell_type": "code",
   "execution_count": 39,
   "id": "a37ae9e6",
   "metadata": {},
   "outputs": [
    {
     "name": "stderr",
     "output_type": "stream",
     "text": [
      "/Users/halasedki/anaconda3/lib/python3.11/site-packages/sklearn/svm/_base.py:1244: ConvergenceWarning: Liblinear failed to converge, increase the number of iterations.\n",
      "  warnings.warn(\n",
      "/Users/halasedki/anaconda3/lib/python3.11/site-packages/sklearn/svm/_base.py:1244: ConvergenceWarning: Liblinear failed to converge, increase the number of iterations.\n",
      "  warnings.warn(\n",
      "/Users/halasedki/anaconda3/lib/python3.11/site-packages/sklearn/svm/_base.py:1244: ConvergenceWarning: Liblinear failed to converge, increase the number of iterations.\n",
      "  warnings.warn(\n",
      "/Users/halasedki/anaconda3/lib/python3.11/site-packages/sklearn/svm/_base.py:1244: ConvergenceWarning: Liblinear failed to converge, increase the number of iterations.\n",
      "  warnings.warn(\n",
      "/Users/halasedki/anaconda3/lib/python3.11/site-packages/sklearn/svm/_base.py:1244: ConvergenceWarning: Liblinear failed to converge, increase the number of iterations.\n",
      "  warnings.warn(\n",
      "/Users/halasedki/anaconda3/lib/python3.11/site-packages/sklearn/svm/_base.py:1244: ConvergenceWarning: Liblinear failed to converge, increase the number of iterations.\n",
      "  warnings.warn(\n",
      "/Users/halasedki/anaconda3/lib/python3.11/site-packages/sklearn/svm/_base.py:1244: ConvergenceWarning: Liblinear failed to converge, increase the number of iterations.\n",
      "  warnings.warn(\n",
      "/Users/halasedki/anaconda3/lib/python3.11/site-packages/sklearn/svm/_base.py:1244: ConvergenceWarning: Liblinear failed to converge, increase the number of iterations.\n",
      "  warnings.warn(\n",
      "/Users/halasedki/anaconda3/lib/python3.11/site-packages/sklearn/svm/_base.py:1244: ConvergenceWarning: Liblinear failed to converge, increase the number of iterations.\n",
      "  warnings.warn(\n",
      "/Users/halasedki/anaconda3/lib/python3.11/site-packages/sklearn/svm/_base.py:1244: ConvergenceWarning: Liblinear failed to converge, increase the number of iterations.\n",
      "  warnings.warn(\n"
     ]
    },
    {
     "data": {
      "text/plain": [
       "{'svm__C': 1, 'tfidf__use_idf': True}"
      ]
     },
     "execution_count": 39,
     "metadata": {},
     "output_type": "execute_result"
    }
   ],
   "source": [
    "# Running Grid Search for Model Tuning\n",
    "# Grid search with cross-validation\n",
    "grid_search = GridSearchCV(pipeline, param_grid, cv=5)\n",
    "grid_search.fit(train_df['Processed_Request'], train_df['intent'])\n",
    "\n",
    "# Best parameters\n",
    "best_params = grid_search.best_params_\n",
    "best_model = grid_search.best_estimator_\n",
    "best_params"
   ]
  },
  {
   "cell_type": "markdown",
   "id": "664ac3c1",
   "metadata": {},
   "source": [
    "### Evaluating the Tuned Model\n",
    "Applying the model to test or validation data to evaluate its performance"
   ]
  },
  {
   "cell_type": "code",
   "execution_count": 40,
   "id": "2e958f2d",
   "metadata": {},
   "outputs": [
    {
     "name": "stdout",
     "output_type": "stream",
     "text": [
      "                     precision    recall  f1-score   support\n",
      "\n",
      "  atis_abbreviation       0.98      0.98      0.98       130\n",
      "      atis_aircraft       0.95      0.95      0.95        61\n",
      "       atis_airfare       0.95      0.99      0.97       357\n",
      "       atis_airline       1.00      0.99      1.00       128\n",
      "        atis_flight       1.00      0.99      0.99      3030\n",
      "   atis_flight_time       0.93      0.95      0.94        42\n",
      "atis_ground_service       1.00      0.99      0.99       204\n",
      "      atis_quantity       1.00      0.98      0.99        48\n",
      "\n",
      "           accuracy                           0.99      4000\n",
      "          macro avg       0.98      0.98      0.98      4000\n",
      "       weighted avg       0.99      0.99      0.99      4000\n",
      "\n"
     ]
    }
   ],
   "source": [
    "# Evaluate the model\n",
    "y_train_pred = best_model.predict(train_df['Processed_Request'])\n",
    "report = classification_report(train_df['intent'], y_train_pred)\n",
    "print(report)"
   ]
  },
  {
   "cell_type": "markdown",
   "id": "4d5c2999",
   "metadata": {},
   "source": [
    "### Predicting on Test Data and Preparing Submission File\n",
    "Making predictions using the trained model. This cell typically includes applying the model to test or validation data to evaluate its performance"
   ]
  },
  {
   "cell_type": "code",
   "execution_count": 41,
   "id": "5d42c02a",
   "metadata": {},
   "outputs": [
    {
     "data": {
      "text/plain": [
       "'atis_intent_predictions_tuned.csv'"
      ]
     },
     "execution_count": 41,
     "metadata": {},
     "output_type": "execute_result"
    }
   ],
   "source": [
    "# Predicting on Test Data and Preparing Submission File\n",
    "# Predicting intents for the test data\n",
    "test_df['intent'] = best_model.predict(test_df['Processed_Request'])\n",
    "\n",
    "# Preparing the submission file\n",
    "submission = test_df[['Rid', 'intent']]\n",
    "submission.columns = ['id', 'intent']\n",
    "submission_file_path = 'atis_intent_predictions_tuned.csv'\n",
    "submission.to_csv(submission_file_path, index=False)\n",
    "\n",
    "submission_file_path"
   ]
  },
  {
   "cell_type": "markdown",
   "id": "7bf8c34a",
   "metadata": {},
   "source": [
    "------------------------------"
   ]
  },
  {
   "cell_type": "markdown",
   "id": "67675849",
   "metadata": {},
   "source": [
    "## IV. Model 4: LSTM"
   ]
  },
  {
   "cell_type": "markdown",
   "id": "818e630c",
   "metadata": {},
   "source": [
    "LSTM is a type of recurrent neural network (RNN) designed for processing and predicting sequences. In a more detailed description:\n",
    "\n",
    "Architecture: \n",
    "- LSTMs employ specialized gates to control the flow of information within the network. These gates regulate data input, storage, and output, enabling effective sequence learning.\n",
    "\n",
    "Capabilities: \n",
    "- LSTMs excel at learning and retaining information over extended periods, making them suitable for tasks requiring memory of past events, such as language modeling and time series prediction.\n",
    "\n",
    "Application: \n",
    "- Commonly used in deep learning, LSTMs find applications in various fields, particularly in tasks involving sequential data analysis."
   ]
  },
  {
   "cell_type": "markdown",
   "id": "6b5176cd",
   "metadata": {},
   "source": [
    "### Import Libraries\n",
    "This cell imports all necessary libraries such as TensorFlow, Keras preprocessing tools, scikit-learn's LabelEncoder, NumPy, and Pandas."
   ]
  },
  {
   "cell_type": "code",
   "execution_count": 48,
   "id": "1a9a07a0",
   "metadata": {},
   "outputs": [],
   "source": [
    "from tensorflow.keras.preprocessing.text import Tokenizer\n",
    "from tensorflow.keras.preprocessing.sequence import pad_sequences\n",
    "from sklearn.preprocessing import LabelEncoder\n",
    "import numpy as np\n",
    "import pandas as pd\n",
    "from tensorflow.keras.models import Sequential\n",
    "from tensorflow.keras.layers import Embedding, LSTM, Dense, Dropout\n",
    "from tensorflow.keras.callbacks import EarlyStopping"
   ]
  },
  {
   "cell_type": "markdown",
   "id": "43cd7b37",
   "metadata": {},
   "source": [
    "### Loading the Data\n",
    "This cell loads the training and test data from 'train_atis.csv' and 'test_atis.csv' files respectively using Pandas."
   ]
  },
  {
   "cell_type": "code",
   "execution_count": 49,
   "id": "63bd51f0",
   "metadata": {},
   "outputs": [],
   "source": [
    "# Load the training data\n",
    "train_df = pd.read_csv('train_atis.csv')\n",
    "\n",
    "# Load the test data\n",
    "test_df = pd.read_csv('test_atis.csv')"
   ]
  },
  {
   "cell_type": "markdown",
   "id": "59746ddd",
   "metadata": {},
   "source": [
    "### Tokenization\n",
    "In this cell, we tokenize the requests from the training data. We use Keras Tokenizer to fit on the requests and convert them into sequences. These sequences are then padded to have a uniform length."
   ]
  },
  {
   "cell_type": "code",
   "execution_count": 50,
   "id": "a85bfbc1",
   "metadata": {},
   "outputs": [],
   "source": [
    "tokenizer = Tokenizer()\n",
    "tokenizer.fit_on_texts(train_df['Request'])\n",
    "train_sequences = tokenizer.texts_to_sequences(train_df['Request'])\n",
    "max_length = max([len(x) for x in train_sequences])\n",
    "train_padded = pad_sequences(train_sequences, maxlen=max_length, padding='post')"
   ]
  },
  {
   "cell_type": "markdown",
   "id": "9f9f1078",
   "metadata": {},
   "source": [
    "### Encode Labels and Prepare Test Data\n",
    "This cell encodes the intent labels using LabelEncoder. It also prepares the test dataset in a similar manner as the training dataset by tokenizing and padding the sequences."
   ]
  },
  {
   "cell_type": "code",
   "execution_count": 51,
   "id": "5effddf2",
   "metadata": {},
   "outputs": [],
   "source": [
    "label_encoder = LabelEncoder()\n",
    "train_labels = label_encoder.fit_transform(train_df['intent'])\n",
    "train_labels = np.array(train_labels)\n",
    "\n",
    "# Prepare the test dataset similarly\n",
    "test_sequences = tokenizer.texts_to_sequences(test_df['Request'])\n",
    "test_padded = pad_sequences(test_sequences, maxlen=max_length, padding='post')"
   ]
  },
  {
   "cell_type": "markdown",
   "id": "3009b64d",
   "metadata": {},
   "source": [
    "### Build and Summarize the Model\n",
    "This cell defines the LSTM model parameters, constructs the model, and compiles it. The summary of the model is displayed to show its architecture including layers, output shapes, and parameters."
   ]
  },
  {
   "cell_type": "code",
   "execution_count": 52,
   "id": "db5e03cb",
   "metadata": {},
   "outputs": [
    {
     "name": "stdout",
     "output_type": "stream",
     "text": [
      "Model: \"sequential\"\n",
      "_________________________________________________________________\n",
      " Layer (type)                Output Shape              Param #   \n",
      "=================================================================\n",
      " embedding (Embedding)       (None, 46, 128)           104064    \n",
      "                                                                 \n",
      " lstm (LSTM)                 (None, 46, 200)           263200    \n",
      "                                                                 \n",
      " dropout (Dropout)           (None, 46, 200)           0         \n",
      "                                                                 \n",
      " lstm_1 (LSTM)               (None, 200)               320800    \n",
      "                                                                 \n",
      " dropout_1 (Dropout)         (None, 200)               0         \n",
      "                                                                 \n",
      " dense (Dense)               (None, 8)                 1608      \n",
      "                                                                 \n",
      "=================================================================\n",
      "Total params: 689672 (2.63 MB)\n",
      "Trainable params: 689672 (2.63 MB)\n",
      "Non-trainable params: 0 (0.00 Byte)\n",
      "_________________________________________________________________\n"
     ]
    }
   ],
   "source": [
    "# Model parameters\n",
    "vocab_size = len(tokenizer.word_index) + 1\n",
    "embedding_dim = 128  # Increased embedding dimensions\n",
    "lstm_units = 200     # Increased LSTM units\n",
    "\n",
    "# Build the model\n",
    "model = Sequential()\n",
    "model.add(Embedding(vocab_size, embedding_dim, input_length=max_length))\n",
    "model.add(LSTM(lstm_units, return_sequences=True))\n",
    "model.add(Dropout(0.2))  # Added dropout\n",
    "model.add(LSTM(lstm_units))\n",
    "model.add(Dropout(0.2))  # Added dropout\n",
    "model.add(Dense(len(np.unique(train_labels)), activation='softmax'))\n",
    "\n",
    "# Compile the model\n",
    "model.compile(loss='sparse_categorical_crossentropy', optimizer='adam', metrics=['accuracy'])\n",
    "model.summary()"
   ]
  },
  {
   "cell_type": "code",
   "execution_count": 53,
   "id": "bf6d477a",
   "metadata": {},
   "outputs": [
    {
     "name": "stdout",
     "output_type": "stream",
     "text": [
      "Epoch 1/10\n",
      "100/100 [==============================] - 9s 73ms/step - loss: 1.0174 - accuracy: 0.7572 - val_loss: 1.0439 - val_accuracy: 0.7312\n",
      "Epoch 2/10\n",
      "100/100 [==============================] - 7s 71ms/step - loss: 0.9595 - accuracy: 0.7641 - val_loss: 1.0395 - val_accuracy: 0.7312\n",
      "Epoch 3/10\n",
      "100/100 [==============================] - 7s 71ms/step - loss: 0.9596 - accuracy: 0.7641 - val_loss: 1.0385 - val_accuracy: 0.7312\n",
      "Epoch 4/10\n",
      "100/100 [==============================] - 7s 72ms/step - loss: 0.9590 - accuracy: 0.7641 - val_loss: 1.0555 - val_accuracy: 0.7312\n",
      "Epoch 5/10\n",
      "100/100 [==============================] - 7s 71ms/step - loss: 0.9618 - accuracy: 0.7644 - val_loss: 1.0631 - val_accuracy: 0.7312\n",
      "Epoch 6/10\n",
      "100/100 [==============================] - 7s 70ms/step - loss: 0.9572 - accuracy: 0.7641 - val_loss: 1.0398 - val_accuracy: 0.7312\n"
     ]
    },
    {
     "data": {
      "text/plain": [
       "<keras.src.callbacks.History at 0x2e2628210>"
      ]
     },
     "execution_count": 53,
     "metadata": {},
     "output_type": "execute_result"
    }
   ],
   "source": [
    "# Early stopping\n",
    "early_stopping = EarlyStopping(monitor='val_loss', patience=3)\n",
    "\n",
    "# Train the model with more epochs or early stopping\n",
    "model.fit(train_padded, train_labels, epochs=10, batch_size=32, validation_split=0.2, callbacks=[early_stopping])"
   ]
  },
  {
   "cell_type": "markdown",
   "id": "3acc94f9",
   "metadata": {},
   "source": [
    "### Preparing Submission File\n",
    "Prepare the submission.csv file to test the data predictions."
   ]
  },
  {
   "cell_type": "code",
   "execution_count": 54,
   "id": "7faabee6",
   "metadata": {},
   "outputs": [
    {
     "name": "stdout",
     "output_type": "stream",
     "text": [
      "27/27 [==============================] - 1s 18ms/step\n"
     ]
    }
   ],
   "source": [
    "# Make predictions\n",
    "predictions = model.predict(test_padded)\n",
    "predicted_labels = np.argmax(predictions, axis=1)\n",
    "\n",
    "# Convert numeric labels back to original intent labels\n",
    "predicted_intents = label_encoder.inverse_transform(predicted_labels)\n",
    "\n",
    "# Create a DataFrame for submission\n",
    "submission_df = pd.DataFrame({'id': test_df['Rid'], 'intent': predicted_intents})\n",
    "\n",
    "# Save the DataFrame as a CSV file\n",
    "submission_df.to_csv('submission10.csv', index=False)"
   ]
  },
  {
   "cell_type": "markdown",
   "id": "4565c7a9",
   "metadata": {},
   "source": [
    "Analysis on the model:\n",
    "The model performed the worst out of all the other models. One issue that could be contributing to the low score could be that the model is smaller/simple, so there isn't enough training the text is going through."
   ]
  },
  {
   "cell_type": "markdown",
   "id": "e4609bb5",
   "metadata": {},
   "source": [
    "----------------------------------"
   ]
  },
  {
   "cell_type": "markdown",
   "id": "09616102",
   "metadata": {},
   "source": [
    "## V. Analysis & Findings"
   ]
  },
  {
   "cell_type": "markdown",
   "id": "64570e33",
   "metadata": {},
   "source": [
    "##### Models Accuracy Scores (Confirmed through Kaggle):\n",
    "\n",
    "*Models are listed from Highest Accuracy to Lowest\n",
    "- Bert Model: 0.99028\n",
    "- XLNet: 0.98769\n",
    "- SVM w/Grid Search: 0.94392\n",
    "- LSTM: 0.78466"
   ]
  },
  {
   "cell_type": "markdown",
   "id": "59c888c2",
   "metadata": {},
   "source": [
    "### Analytical Opinion\n",
    "\n",
    "These accuracy scores indicate the performance of each model in correctly predicting the intents of the given dataset. A higher accuracy score signifies that the model is more effective in accurately classifying the intents.\n",
    "\n",
    "BERT (Bidirectional Encoder Representations from Transformers) is a transformer-based model that has achieved significant success in various natural language processing (NLP) tasks. With an accuracy score of 0.99028, my BERT model demonstrates excellent performance in intent classification. BERT models leverage bidirectional training and attention mechanisms, allowing them to capture contextual information effectively and make accurate predictions.\n",
    "\n",
    "XLNet is another transformer-based model that also utilizes bidirectional context and overcomes some limitations of BERT. With an accuracy score of 0.98769, my XLNet model performs at a similarly high level as BERT. XLNet employs an autoregressive approach, considering all permutations of the input sequence during training, which helps in capturing dependencies between words effectively.\n",
    "\n",
    "SVM (Support Vector Machine) is a classical machine learning algorithm commonly used for classification tasks. By employing a grid search technique to tune hyperparameters, I have achieved an accuracy score of 0.94392. While SVM performs well in many scenarios, it may not capture the intricate relationships and contextual nuances present in natural language data as effectively as transformer-based models like BERT and XLNet.\n",
    "\n",
    "LSTM (Long Short-Term Memory) is a type of recurrent neural network (RNN) architecture that is often used for sequence modeling tasks. With an accuracy score of 0.78466, my LSTM model performs relatively lower compared to the transformer-based models. LSTM models are capable of capturing sequential dependencies in the data, but they may struggle to handle long-range dependencies and may be prone to vanishing or exploding gradients.\n",
    "\n",
    "The ranking of these models based on their accuracy scores reflects their relative performance on the intent classification task. BERT and XLNet, being transformer-based models, outperform the SVM with Grid Search and LSTM models in this particular scenario. This is likely due to the ability of transformer models to capture contextual information and learn intricate patterns in the data, making them highly effective for NLP tasks.\n",
    "\n",
    "It's important to note that accuracy alone may not always provide a complete picture of a model's performance. It is advisable to consider other evaluation metrics such as precision, recall, and F1 score, especially in scenarios with imbalanced class distributions or when different misclassification costs are involved. In our case, although the classification report of all 4 models seemed relatively close, yet the accuracy through kaggle deemed different.\n",
    "\n",
    "Overall, our BERT and XLNet models showcase exceptional performance in intent classification, while SVM with Grid Search performs reasonably well, and LSTM lags behind in accuracy."
   ]
  },
  {
   "cell_type": "markdown",
   "id": "7daf2173",
   "metadata": {},
   "source": [
    "---------------------------"
   ]
  },
  {
   "cell_type": "code",
   "execution_count": null,
   "id": "60ce32c9",
   "metadata": {},
   "outputs": [],
   "source": []
  }
 ],
 "metadata": {
  "kernelspec": {
   "display_name": "Python 3 (ipykernel)",
   "language": "python",
   "name": "python3"
  },
  "language_info": {
   "codemirror_mode": {
    "name": "ipython",
    "version": 3
   },
   "file_extension": ".py",
   "mimetype": "text/x-python",
   "name": "python",
   "nbconvert_exporter": "python",
   "pygments_lexer": "ipython3",
   "version": "3.11.5"
  }
 },
 "nbformat": 4,
 "nbformat_minor": 5
}
